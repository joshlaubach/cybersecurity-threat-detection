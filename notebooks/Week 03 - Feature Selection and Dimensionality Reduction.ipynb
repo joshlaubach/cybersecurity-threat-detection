{
 "cells": [
  {
   "cell_type": "markdown",
   "id": "36ebd101",
   "metadata": {},
   "source": [
    "# Week 3: Feature Selection and Dimensionality Reduction\n",
    "\n",
    "---\n",
    "\n",
    "## Objectives\n",
    "\n",
    "- Implement forward stepwise selection  \n",
    "- Implement backward stepwise selection  \n",
    "- Apply Principal Component Regression (PCR)  \n",
    "- Apply Partial Least Squares Regression (PLSR)  \n",
    "- Compare model performance and interpret component loadings  \n",
    "\n",
    "---\n"
   ]
  },
  {
   "cell_type": "markdown",
   "id": "78cd71e9",
   "metadata": {},
   "source": [
    "## Imports"
   ]
  },
  {
   "cell_type": "code",
   "execution_count": 1,
   "id": "4bf17f9e",
   "metadata": {},
   "outputs": [],
   "source": [
    "import pandas as pd\n",
    "import numpy as np\n",
    "import matplotlib.pyplot as plt\n",
    "import seaborn as sns\n",
    "\n",
    "import statsmodels.api as sm\n",
    "\n",
    "from sklearn.model_selection import train_test_split\n",
    "from sklearn.linear_model import LinearRegression\n",
    "from sklearn.preprocessing import StandardScaler\n",
    "from sklearn.decomposition import PCA\n",
    "from sklearn.cross_decomposition import PLSRegression\n",
    "from sklearn.metrics import r2_score, mean_squared_error"
   ]
  },
  {
   "cell_type": "markdown",
   "id": "4ce86918",
   "metadata": {},
   "source": [
    "## Load and Inspect the Data"
   ]
  },
  {
   "cell_type": "code",
   "execution_count": 2,
   "id": "433ffe1b",
   "metadata": {},
   "outputs": [
    {
     "name": "stdout",
     "output_type": "stream",
     "text": [
      "<class 'pandas.core.frame.DataFrame'>\n",
      "RangeIndex: 77623 entries, 0 to 77622\n",
      "Data columns (total 18 columns):\n",
      " #   Column                Non-Null Count  Dtype         \n",
      "---  ------                --------------  -----         \n",
      " 0   AttackDate            77623 non-null  datetime64[ns]\n",
      " 1   Country               77623 non-null  object        \n",
      " 2   Spam                  77623 non-null  float64       \n",
      " 3   Ransomware            77623 non-null  float64       \n",
      " 4   Local Infection       77623 non-null  float64       \n",
      " 5   Exploit               77623 non-null  float64       \n",
      " 6   Malicious Mail        77623 non-null  float64       \n",
      " 7   Network Attack        77623 non-null  float64       \n",
      " 8   On Demand Scan        77623 non-null  float64       \n",
      " 9   Web Threat            77623 non-null  float64       \n",
      " 10  Rank Spam             77623 non-null  int64         \n",
      " 11  Rank Ransomware       77623 non-null  int64         \n",
      " 12  Rank Local Infection  77623 non-null  int64         \n",
      " 13  Rank Exploit          77623 non-null  int64         \n",
      " 14  Rank Malicious Mail   77623 non-null  int64         \n",
      " 15  Rank Network Attack   77623 non-null  int64         \n",
      " 16  Rank On Demand Scan   77623 non-null  int64         \n",
      " 17  Rank Web Threat       77623 non-null  int64         \n",
      "dtypes: datetime64[ns](1), float64(8), int64(8), object(1)\n",
      "memory usage: 10.7+ MB\n"
     ]
    }
   ],
   "source": [
    "df = pd.read_csv('datasets/drsufi.csv')\n",
    "df['AttackDate'] = pd.to_datetime(df['AttackDate'], format='%d/%m/%Y %H:%M')\n",
    "df.head()\n",
    "df.info()"
   ]
  },
  {
   "cell_type": "markdown",
   "id": "381c1b58",
   "metadata": {},
   "source": [
    "## Exploratory Data Analysis"
   ]
  },
  {
   "cell_type": "code",
   "execution_count": 3,
   "id": "3c436f43",
   "metadata": {},
   "outputs": [
    {
     "data": {
      "text/html": [
       "<div>\n",
       "<style scoped>\n",
       "    .dataframe tbody tr th:only-of-type {\n",
       "        vertical-align: middle;\n",
       "    }\n",
       "\n",
       "    .dataframe tbody tr th {\n",
       "        vertical-align: top;\n",
       "    }\n",
       "\n",
       "    .dataframe thead th {\n",
       "        text-align: right;\n",
       "    }\n",
       "</style>\n",
       "<table border=\"1\" class=\"dataframe\">\n",
       "  <thead>\n",
       "    <tr style=\"text-align: right;\">\n",
       "      <th></th>\n",
       "      <th>Ransomware</th>\n",
       "      <th>Local Infection</th>\n",
       "      <th>Exploit</th>\n",
       "      <th>Malicious Mail</th>\n",
       "      <th>Network Attack</th>\n",
       "      <th>On Demand Scan</th>\n",
       "      <th>Web Threat</th>\n",
       "    </tr>\n",
       "  </thead>\n",
       "  <tbody>\n",
       "    <tr>\n",
       "      <th>count</th>\n",
       "      <td>77623.000000</td>\n",
       "      <td>77623.000000</td>\n",
       "      <td>77623.000000</td>\n",
       "      <td>77623.000000</td>\n",
       "      <td>77623.000000</td>\n",
       "      <td>77623.000000</td>\n",
       "      <td>77623.000000</td>\n",
       "    </tr>\n",
       "    <tr>\n",
       "      <th>mean</th>\n",
       "      <td>0.000087</td>\n",
       "      <td>0.012807</td>\n",
       "      <td>0.000388</td>\n",
       "      <td>0.001152</td>\n",
       "      <td>0.002048</td>\n",
       "      <td>0.009330</td>\n",
       "      <td>0.012381</td>\n",
       "    </tr>\n",
       "    <tr>\n",
       "      <th>std</th>\n",
       "      <td>0.000164</td>\n",
       "      <td>0.008653</td>\n",
       "      <td>0.000379</td>\n",
       "      <td>0.001568</td>\n",
       "      <td>0.002973</td>\n",
       "      <td>0.006271</td>\n",
       "      <td>0.005568</td>\n",
       "    </tr>\n",
       "    <tr>\n",
       "      <th>min</th>\n",
       "      <td>0.000000</td>\n",
       "      <td>0.000000</td>\n",
       "      <td>0.000000</td>\n",
       "      <td>0.000000</td>\n",
       "      <td>0.000000</td>\n",
       "      <td>0.000000</td>\n",
       "      <td>0.000000</td>\n",
       "    </tr>\n",
       "    <tr>\n",
       "      <th>25%</th>\n",
       "      <td>0.000000</td>\n",
       "      <td>0.006730</td>\n",
       "      <td>0.000120</td>\n",
       "      <td>0.000190</td>\n",
       "      <td>0.000580</td>\n",
       "      <td>0.004850</td>\n",
       "      <td>0.009170</td>\n",
       "    </tr>\n",
       "    <tr>\n",
       "      <th>50%</th>\n",
       "      <td>0.000040</td>\n",
       "      <td>0.010470</td>\n",
       "      <td>0.000310</td>\n",
       "      <td>0.000590</td>\n",
       "      <td>0.001180</td>\n",
       "      <td>0.007840</td>\n",
       "      <td>0.012310</td>\n",
       "    </tr>\n",
       "    <tr>\n",
       "      <th>75%</th>\n",
       "      <td>0.000100</td>\n",
       "      <td>0.017200</td>\n",
       "      <td>0.000560</td>\n",
       "      <td>0.001510</td>\n",
       "      <td>0.002190</td>\n",
       "      <td>0.012560</td>\n",
       "      <td>0.015750</td>\n",
       "    </tr>\n",
       "    <tr>\n",
       "      <th>max</th>\n",
       "      <td>0.009180</td>\n",
       "      <td>0.049370</td>\n",
       "      <td>0.004660</td>\n",
       "      <td>0.043220</td>\n",
       "      <td>0.058260</td>\n",
       "      <td>0.124880</td>\n",
       "      <td>0.048630</td>\n",
       "    </tr>\n",
       "  </tbody>\n",
       "</table>\n",
       "</div>"
      ],
      "text/plain": [
       "         Ransomware  Local Infection       Exploit  Malicious Mail  \\\n",
       "count  77623.000000     77623.000000  77623.000000    77623.000000   \n",
       "mean       0.000087         0.012807      0.000388        0.001152   \n",
       "std        0.000164         0.008653      0.000379        0.001568   \n",
       "min        0.000000         0.000000      0.000000        0.000000   \n",
       "25%        0.000000         0.006730      0.000120        0.000190   \n",
       "50%        0.000040         0.010470      0.000310        0.000590   \n",
       "75%        0.000100         0.017200      0.000560        0.001510   \n",
       "max        0.009180         0.049370      0.004660        0.043220   \n",
       "\n",
       "       Network Attack  On Demand Scan    Web Threat  \n",
       "count    77623.000000    77623.000000  77623.000000  \n",
       "mean         0.002048        0.009330      0.012381  \n",
       "std          0.002973        0.006271      0.005568  \n",
       "min          0.000000        0.000000      0.000000  \n",
       "25%          0.000580        0.004850      0.009170  \n",
       "50%          0.001180        0.007840      0.012310  \n",
       "75%          0.002190        0.012560      0.015750  \n",
       "max          0.058260        0.124880      0.048630  "
      ]
     },
     "metadata": {},
     "output_type": "display_data"
    },
    {
     "data": {
      "image/png": "[encoded data removed]",
      "text/plain": [
       "<Figure size 800x600 with 2 Axes>"
      ]
     },
     "metadata": {},
     "output_type": "display_data"
    }
   ],
   "source": [
    "# Exploratory Data Analysis\n",
    "numeric_cols = [\n",
    "    'Ransomware', 'Local Infection', 'Exploit',\n",
    "    'Malicious Mail', 'Network Attack',\n",
    "    'On Demand Scan', 'Web Threat'\n",
    "]\n",
    "display(df[numeric_cols].describe())\n",
    "\n",
    "# Correlation heatmap\n",
    "plt.figure(figsize=(8,6))\n",
    "sns.heatmap(df[numeric_cols].corr(), annot=True, fmt='.2f', square=True)\n",
    "plt.title('Correlation Matrix')\n",
    "plt.show()"
   ]
  },
  {
   "cell_type": "markdown",
   "id": "4a232961",
   "metadata": {},
   "source": [
    "## Forward and Backward Stepwise Selection\n",
    "\n",
    "We model\n",
    "$$\n",
    "y = X\\beta + \\epsilon\n",
    "$$\n",
    "and select predictors by minimizing AIC."
   ]
  },
  {
   "cell_type": "code",
   "execution_count": 4,
   "id": "21dad23d",
   "metadata": {},
   "outputs": [
    {
     "name": "stdout",
     "output_type": "stream",
     "text": [
      "Forward selected predictors: ['Exploit', 'Network Attack', 'Web Threat', 'On Demand Scan', 'Malicious Mail', 'Local Infection', 'Ransomware']\n",
      "Backward selected predictors: ['Ransomware', 'Local Infection', 'Exploit', 'Malicious Mail', 'Network Attack', 'On Demand Scan', 'Web Threat']\n"
     ]
    }
   ],
   "source": [
    "def forward_selection(X, y, predictors):\n",
    "    selected = []\n",
    "    current_aic = np.inf\n",
    "    candidates = predictors.copy()\n",
    "    \n",
    "    while candidates:\n",
    "        results = []\n",
    "        for p in candidates:\n",
    "            X_tmp = sm.add_constant(X[selected + [p]])\n",
    "            aic = sm.OLS(y, X_tmp).fit().aic\n",
    "            results.append((aic, p))\n",
    "        results.sort()\n",
    "        best_aic, best_p = results[0]\n",
    "        \n",
    "        if best_aic < current_aic:\n",
    "            selected.append(best_p)\n",
    "            current_aic = best_aic\n",
    "            candidates.remove(best_p)\n",
    "        else:\n",
    "            break\n",
    "\n",
    "    return selected\n",
    "\n",
    "def backward_selection(X, y, predictors):\n",
    "    selected = predictors.copy()\n",
    "    current_aic = sm.OLS(y, sm.add_constant(X[selected])).fit().aic\n",
    "    \n",
    "    # keep at least one predictor\n",
    "    while len(selected) > 1:\n",
    "        results = []\n",
    "        for p in selected:\n",
    "            subset = [q for q in selected if q != p]\n",
    "            X_tmp = sm.add_constant(X[subset])\n",
    "            aic = sm.OLS(y, X_tmp).fit().aic\n",
    "            results.append((aic, p))\n",
    "        results.sort()\n",
    "        best_aic, remove_p = results[0]\n",
    "        \n",
    "        if best_aic < current_aic:\n",
    "            selected.remove(remove_p)\n",
    "            current_aic = best_aic\n",
    "        else:\n",
    "            break\n",
    "\n",
    "    return selected\n",
    "\n",
    "# Apply to our data\n",
    "X_df = df[numeric_cols]\n",
    "y = df['Spam']\n",
    "\n",
    "forward_preds  = forward_selection(X_df, y, numeric_cols)\n",
    "backward_preds = backward_selection(X_df, y, numeric_cols)\n",
    "\n",
    "print('Forward selected predictors:', forward_preds)\n",
    "print('Backward selected predictors:', backward_preds)"
   ]
  },
  {
   "cell_type": "markdown",
   "id": "f54ed5d1",
   "metadata": {},
   "source": [
    "## Principal Component Regression (PCR)\n",
    "\n",
    "We first perform PCA on scaled predictors, then regress the top components."
   ]
  },
  {
   "cell_type": "code",
   "execution_count": 6,
   "id": "75c3a841",
   "metadata": {},
   "outputs": [
    {
     "name": "stdout",
     "output_type": "stream",
     "text": [
      "Explained variance ratios: [0.35686556 0.18338235 0.14742643 0.12212068 0.09044933]\n",
      "PCR Test R^2 = 0.051\n",
      "PCR Test MSE = 0.000433\n"
     ]
    }
   ],
   "source": [
    "# Scale features\n",
    "scaler = StandardScaler()\n",
    "X_scaled = scaler.fit_transform(df[numeric_cols])\n",
    "\n",
    "# PCA\n",
    "pca = PCA(n_components=5)\n",
    "X_pca = pca.fit_transform(X_scaled)\n",
    "print('Explained variance ratios:', pca.explained_variance_ratio_)\n",
    "\n",
    "# Train/test split on principal components\n",
    "X_train_pca, X_test_pca, y_train, y_test = train_test_split(\n",
    "    X_pca, df['Spam'], test_size=0.3, random_state=42\n",
    ")\n",
    "\n",
    "# Fit PCR model\n",
    "lr_pcr = LinearRegression().fit(X_train_pca, y_train)\n",
    "y_pred_pcr = lr_pcr.predict(X_test_pca)\n",
    "\n",
    "print(f'PCR Test R^2 = {r2_score(y_test, y_pred_pcr):.3f}')\n",
    "print(f'PCR Test MSE = {mean_squared_error(y_test, y_pred_pcr):.6f}')"
   ]
  },
  {
   "cell_type": "markdown",
   "id": "9c1c140c",
   "metadata": {},
   "source": [
    "## Partial Least Squares Regression (PLSR)\n",
    "\n",
    "We fit PLS with the same number of components."
   ]
  },
  {
   "cell_type": "code",
   "execution_count": 7,
   "id": "81e8e8db",
   "metadata": {},
   "outputs": [
    {
     "name": "stdout",
     "output_type": "stream",
     "text": [
      "PLSR Test R^2 = 0.067\n",
      "PLSR Test MSE = 0.000426\n"
     ]
    }
   ],
   "source": [
    "# Train/test split on scaled features\n",
    "X_train, X_test, y_train2, y_test2 = train_test_split(\n",
    "    X_scaled, df['Spam'], test_size=0.3, random_state=42\n",
    ")\n",
    "\n",
    "pls = PLSRegression(n_components=5)\n",
    "pls.fit(X_train, y_train2)\n",
    "y_pred_pls = pls.predict(X_test)\n",
    "\n",
    "print(f'PLSR Test R^2 = {r2_score(y_test2, y_pred_pls):.3f}')\n",
    "print(f'PLSR Test MSE = {mean_squared_error(y_test2, y_pred_pls):.6f}')"
   ]
  },
  {
   "cell_type": "markdown",
   "id": "c5479ded",
   "metadata": {},
   "source": [
    "## Key Takeaways\n",
    "- Forward selection chose predictors: [forward_preds]\n",
    "- Backward selection chose predictors: [backward_preds]\n",
    "- PCR with 5 components explained $\\sum \\text{variance ratios}\\approx$ these components and achieved Test $R^2 \\approx$ value printed above.\n",
    "- PLSR with 5 components achieved Test $R^2 \\approx$ value printed above.\n",
    "- PCR reduces dimensionality independently of $y$, while PLSR finds components that maximise covariance with $y$."
   ]
  },
  {
   "cell_type": "markdown",
   "id": "759c0edc",
   "metadata": {},
   "source": [
    "## Yellowdig Source\n",
    "\n",
    "https://yellowdig.app/n/bu-omds/community/680847e5-a19a-76a7-5e0e-1a1c8b27a7a3?postId=68364a0e-49c8-4c93-b918-7fa43b2a6b7d"
   ]
  },
  {
   "cell_type": "code",
   "execution_count": null,
   "id": "b431fee8",
   "metadata": {},
   "outputs": [],
   "source": []
  }
 ],
 "metadata": {
  "kernelspec": {
   "display_name": "Python 3 (ipykernel)",
   "language": "python",
   "name": "python3"
  },
  "language_info": {
   "codemirror_mode": {
    "name": "ipython",
    "version": 3
   },
   "file_extension": ".py",
   "mimetype": "text/x-python",
   "name": "python",
   "nbconvert_exporter": "python",
   "pygments_lexer": "ipython3",
   "version": "3.11.1"
  }
 },
 "nbformat": 4,
 "nbformat_minor": 5
}
